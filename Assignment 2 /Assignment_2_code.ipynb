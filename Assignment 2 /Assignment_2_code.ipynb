{
 "cells": [
  {
   "cell_type": "code",
   "execution_count": 1,
   "metadata": {},
   "outputs": [],
   "source": [
    "import numpy as np\n",
    "from numpy import identity as In\n",
    "from numpy import zeros as Z\n",
    "from numpy import ones as O\n",
    "from numpy import matmul as M\n",
    "from numpy import transpose as T\n",
    "import numpy.linalg as lin\n",
    "from numpy.linalg import inv as I"
   ]
  },
  {
   "cell_type": "code",
   "execution_count": 2,
   "metadata": {},
   "outputs": [],
   "source": [
    "data=np.loadtxt(\"test.txt\")\n",
    "x=data[:,0:13]\n",
    "y=data[:,13]\n",
    "# this step is for standardizing the data \n",
    "#x=np.divide(np.subtract(x, np.mean(x, axis=0)), np.std(x, axis=0))\n",
    "ones=np.ones((506,1))\n",
    "x=np.append(ones, x, axis=1)"
   ]
  },
  {
   "cell_type": "code",
   "execution_count": 3,
   "metadata": {},
   "outputs": [
    {
     "data": {
      "text/plain": [
       "array([[   180.7708271 ,    157.28575607,   -782.8879059 ],\n",
       "       [   157.28575607, 146172.46399901,  12293.94544685],\n",
       "       [  -782.8879059 ,  12293.94544685,  13298.24618271]])"
      ]
     },
     "execution_count": 3,
     "metadata": {},
     "output_type": "execute_result"
    }
   ],
   "source": [
    "x_tran_x=M(T(x),x)\n",
    "A=np.zeros((3,14))\n",
    "A[0,6]=1;\n",
    "A[1,7]=1;\n",
    "A[2,13]=1\n",
    "X = M(A,I(x_tran_x))\n",
    "cov = I(M(X,T(A)))\n",
    "cov"
   ]
  },
  {
   "cell_type": "code",
   "execution_count": 4,
   "metadata": {},
   "outputs": [
    {
     "data": {
      "text/plain": [
       "(506, 506)"
      ]
     },
     "execution_count": 4,
     "metadata": {},
     "output_type": "execute_result"
    }
   ],
   "source": [
    "P=M(x, M( I(x_tran_x), T(x)))\n",
    "P.shape"
   ]
  },
  {
   "cell_type": "code",
   "execution_count": 5,
   "metadata": {},
   "outputs": [
    {
     "data": {
      "text/plain": [
       "array([ 3.64594884e+01, -1.08011358e-01,  4.64204584e-02,  2.05586264e-02,\n",
       "        2.68673382e+00, -1.77666112e+01,  3.80986521e+00,  6.92224640e-04,\n",
       "       -1.47556685e+00,  3.06049479e-01, -1.23345939e-02, -9.52747232e-01,\n",
       "        9.31168327e-03, -5.24758378e-01])"
      ]
     },
     "execution_count": 5,
     "metadata": {},
     "output_type": "execute_result"
    }
   ],
   "source": [
    "#normalized data\n",
    "beta_mle=M(M(I(x_tran_x),T(x)),y)\n",
    "beta_mle"
   ]
  },
  {
   "cell_type": "code",
   "execution_count": 6,
   "metadata": {},
   "outputs": [
    {
     "data": {
      "text/plain": [
       "array([ 3.64594884e+01, -1.08011358e-01,  4.64204584e-02,  2.05586264e-02,\n",
       "        2.68673382e+00, -1.77666112e+01,  3.80986521e+00,  6.92224640e-04,\n",
       "       -1.47556685e+00,  3.06049479e-01, -1.23345939e-02, -9.52747232e-01,\n",
       "        9.31168327e-03, -5.24758378e-01])"
      ]
     },
     "execution_count": 6,
     "metadata": {},
     "output_type": "execute_result"
    }
   ],
   "source": [
    "#non Normalized\n",
    "beta_mle=M(M(I(x_tran_x),T(x)),y)\n",
    "beta_mle"
   ]
  },
  {
   "cell_type": "code",
   "execution_count": 7,
   "metadata": {},
   "outputs": [
    {
     "data": {
      "text/plain": [
       "11078.784577973092"
      ]
     },
     "execution_count": 7,
     "metadata": {},
     "output_type": "execute_result"
    }
   ],
   "source": [
    "RSS=M(T(y), M((In(P.shape[0]) - P), y))\n",
    "RSS\n",
    "#M(A,beta_mle)"
   ]
  },
  {
   "cell_type": "code",
   "execution_count": null,
   "metadata": {},
   "outputs": [],
   "source": [
    "\n"
   ]
  },
  {
   "cell_type": "code",
   "execution_count": null,
   "metadata": {},
   "outputs": [],
   "source": []
  },
  {
   "cell_type": "code",
   "execution_count": null,
   "metadata": {},
   "outputs": [],
   "source": []
  },
  {
   "cell_type": "code",
   "execution_count": null,
   "metadata": {},
   "outputs": [],
   "source": []
  },
  {
   "cell_type": "code",
   "execution_count": null,
   "metadata": {},
   "outputs": [],
   "source": []
  },
  {
   "cell_type": "code",
   "execution_count": null,
   "metadata": {},
   "outputs": [],
   "source": []
  },
  {
   "cell_type": "code",
   "execution_count": null,
   "metadata": {},
   "outputs": [],
   "source": []
  },
  {
   "cell_type": "code",
   "execution_count": null,
   "metadata": {},
   "outputs": [],
   "source": []
  },
  {
   "cell_type": "code",
   "execution_count": 8,
   "metadata": {
    "scrolled": true
   },
   "outputs": [
    {
     "name": "stdout",
     "output_type": "stream",
     "text": [
      "10.801193141189264\n",
      "1\n",
      "11.435058151654273\n",
      "2\n",
      "0.11176320429826783\n",
      "9.724299175093277\n",
      "4\n",
      "21.63419550605254\n",
      "5\n",
      "83.10401214426098\n",
      "6\n",
      "0.0027460143892066276\n",
      "54.73045730667293\n",
      "8\n",
      "21.27884426548893\n",
      "9\n",
      "10.758459961109944\n",
      "10\n",
      "53.03496011394025\n",
      "11\n",
      "12.018650641052247\n",
      "12\n",
      "107.06342620906702\n",
      "13\n"
     ]
    }
   ],
   "source": [
    "\n",
    "F_critical=3.86042832\n",
    "for j in range(1,14):\n",
    "    A=np.zeros((1,14))\n",
    "    A[0,j]=1\n",
    "    A_b=M(A, beta_mle)\n",
    "    A_A=I(M(M(A, I(x_tran_x)),T(A)))\n",
    "    RSS_h_minus_RSS= M(T(A_b), M(A_A, A_b))\n",
    "    F=((RSS_h_minus_RSS)/RSS)*((506-14)/1)\n",
    "    print(F)\n",
    "    if(F>F_critical):\n",
    "        print (j)\n",
    "\n",
    "# for all these columns our hypothesis was not to include them in the model hence our hypothesis was worng \n",
    "# and wee need to include them.\n"
   ]
  },
  {
   "cell_type": "code",
   "execution_count": 9,
   "metadata": {},
   "outputs": [
    {
     "data": {
      "text/plain": [
       "0.11420076194350136"
      ]
     },
     "execution_count": 9,
     "metadata": {},
     "output_type": "execute_result"
    }
   ],
   "source": [
    "F_critical=3.86042832\n",
    "# now are hypothesis is to include only these predictors\n",
    "A=np.zeros((1,14))\n",
    "A[0,3]=1\n",
    "A[0,7]=1\n",
    "A_b=M(A, beta_mle)\n",
    "A_A=I(M(M(A, I(x_tran_x)),T(A)))\n",
    "RSS_h_minus_RSS= M(T(A_b), M(A_A, A_b))\n",
    "F=((RSS_h_minus_RSS)/RSS)*((506-14)/1)\n",
    "F\n",
    "# hence these are the significant predictors.\n"
   ]
  },
  {
   "cell_type": "code",
   "execution_count": 10,
   "metadata": {},
   "outputs": [],
   "source": [
    "t_alpha= 1.964797"
   ]
  },
  {
   "cell_type": "code",
   "execution_count": 11,
   "metadata": {},
   "outputs": [
    {
     "name": "stdout",
     "output_type": "stream",
     "text": [
      " Predicted value of NOX -17.76661122828687  Confidence Interval [  -10.26159025120765 ,  -25.27163220536609 ]\n"
     ]
    }
   ],
   "source": [
    "a=np.zeros((14,1))\n",
    "a[5,0]=1\n",
    "denom=float((M(T(a), M(I(x_tran_x),a))*RSS/(506-14))**0.5)\n",
    "upper=float(M(T(a),beta_mle)+t_alpha*denom)\n",
    "lower=float(M(T(a),beta_mle)-t_alpha*denom)\n",
    "print(\" Predicted value of NOX\",beta_mle[5], \" Confidence Interval\", \"[ \",upper ,\", \",lower, \"]\")"
   ]
  },
  {
   "cell_type": "code",
   "execution_count": 12,
   "metadata": {},
   "outputs": [],
   "source": [
    "#now NOX as the only predictor"
   ]
  },
  {
   "cell_type": "code",
   "execution_count": 13,
   "metadata": {},
   "outputs": [
    {
     "name": "stdout",
     "output_type": "stream",
     "text": [
      " Predicted value of NOX -33.91605500866066  Confidence Interval [  -27.636269175572966 ,  -40.195840841748364 ]\n"
     ]
    }
   ],
   "source": [
    "x_nox=x[:,[0,5]]\n",
    "beta_nox=M(M(I(M(T(x_nox), x_nox)), T(x_nox)),y)\n",
    "beta_nox\n",
    "P_nox=M(x_nox, M( I(M(T(x_nox), x_nox)), T(x_nox)))\n",
    "RSS_nox=M(T(y), M((In(P_nox.shape[0]) - P_nox), y))\n",
    "t_alpha_nox=1.964682\n",
    "a=np.zeros((2,1))\n",
    "a[1,0]=1\n",
    "denom=float((M(T(a), M(I(M(T(x_nox), x_nox)),a))*RSS_nox/(506-2))**0.5)\n",
    "upper=float(M(T(a),beta_nox)+t_alpha_nox*denom)\n",
    "lower=float(M(T(a),beta_nox)-t_alpha_nox*denom)\n",
    "print(\" Predicted value of NOX\",beta_nox[1], \" Confidence Interval\", \"[ \",upper ,\", \",lower, \"]\")"
   ]
  },
  {
   "cell_type": "code",
   "execution_count": 14,
   "metadata": {},
   "outputs": [
    {
     "name": "stdout",
     "output_type": "stream",
     "text": [
      "112.59148027969351\n"
     ]
    }
   ],
   "source": [
    "#F_critical =254.06128185\n",
    "\n",
    "A=np.zeros((1,2))\n",
    "A[0,1]=1\n",
    "A_b=M(A, beta_nox)\n",
    "A_A=I(M(M(A, I(M(T(x_nox), x_nox))),T(A)))\n",
    "RSS_h_minus_RSS= M(T(A_b), M(A_A, A_b))\n",
    "F=((RSS_h_minus_RSS)/RSS_nox)*((506-2)/1)\n",
    "print(F)\n",
    "#if(F>F_critical):\n",
    "#        print (j)"
   ]
  },
  {
   "cell_type": "code",
   "execution_count": 15,
   "metadata": {},
   "outputs": [
    {
     "data": {
      "text/plain": [
       "array([-33.91605501])"
      ]
     },
     "execution_count": 15,
     "metadata": {},
     "output_type": "execute_result"
    }
   ],
   "source": [
    "A_b"
   ]
  },
  {
   "cell_type": "code",
   "execution_count": 16,
   "metadata": {},
   "outputs": [
    {
     "data": {
      "text/plain": [
       "array([[  20234.598247,  215670.1759  ,   38681.78802 ],\n",
       "       [ 215670.1759  , 2779614.63    ,  500191.627   ],\n",
       "       [  38681.78802 ,  500191.627   ,  106762.9583  ]])"
      ]
     },
     "execution_count": 16,
     "metadata": {},
     "output_type": "execute_result"
    }
   ],
   "source": [
    "x_last=x[:,[6,7,13]]\n",
    "x_tran_x=M(T(x_last),x_last)\n",
    "P=M(x_last, M( I(x_tran_x), T(x_last)))\n",
    "beta_mle=M(M(I(x_tran_x),T(x_last)),y)\n",
    "RSS=M(T(y), M((In(P.shape[0]) - P), y))\n",
    "x_tran_x"
   ]
  },
  {
   "cell_type": "code",
   "execution_count": 17,
   "metadata": {},
   "outputs": [
    {
     "data": {
      "text/plain": [
       "array([ 4.85493231,  0.00938516, -0.68087926])"
      ]
     },
     "execution_count": 17,
     "metadata": {},
     "output_type": "execute_result"
    }
   ],
   "source": [
    "beta_mle"
   ]
  },
  {
   "cell_type": "code",
   "execution_count": null,
   "metadata": {},
   "outputs": [],
   "source": []
  },
  {
   "cell_type": "code",
   "execution_count": null,
   "metadata": {},
   "outputs": [],
   "source": []
  },
  {
   "cell_type": "code",
   "execution_count": 18,
   "metadata": {},
   "outputs": [],
   "source": [
    "F_critical=2.62262805"
   ]
  },
  {
   "cell_type": "code",
   "execution_count": null,
   "metadata": {},
   "outputs": [],
   "source": []
  },
  {
   "cell_type": "code",
   "execution_count": null,
   "metadata": {},
   "outputs": [],
   "source": []
  },
  {
   "cell_type": "code",
   "execution_count": null,
   "metadata": {},
   "outputs": [],
   "source": []
  },
  {
   "cell_type": "code",
   "execution_count": null,
   "metadata": {},
   "outputs": [],
   "source": []
  },
  {
   "cell_type": "code",
   "execution_count": null,
   "metadata": {},
   "outputs": [],
   "source": []
  },
  {
   "cell_type": "code",
   "execution_count": null,
   "metadata": {},
   "outputs": [],
   "source": []
  },
  {
   "cell_type": "code",
   "execution_count": null,
   "metadata": {},
   "outputs": [],
   "source": []
  }
 ],
 "metadata": {
  "kernelspec": {
   "display_name": "Python 3",
   "language": "python",
   "name": "python3"
  },
  "language_info": {
   "codemirror_mode": {
    "name": "ipython",
    "version": 3
   },
   "file_extension": ".py",
   "mimetype": "text/x-python",
   "name": "python",
   "nbconvert_exporter": "python",
   "pygments_lexer": "ipython3",
   "version": "3.7.1"
  }
 },
 "nbformat": 4,
 "nbformat_minor": 2
}
