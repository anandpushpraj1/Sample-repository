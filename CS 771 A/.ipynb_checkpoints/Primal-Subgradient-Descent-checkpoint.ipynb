{
 "cells": [
  {
   "cell_type": "code",
   "execution_count": 2,
   "metadata": {},
   "outputs": [],
   "source": [
    "import numpy as np\n",
    "np.random.seed(0)\n",
    "import time\n",
    "from matplotlib import pyplot as plt"
   ]
  },
  {
   "cell_type": "code",
   "execution_count": 3,
   "metadata": {},
   "outputs": [],
   "source": [
    "data = np.loadtxt(\"train\",encoding='cp1252')"
   ]
  },
  {
   "cell_type": "code",
   "execution_count": 4,
   "metadata": {},
   "outputs": [
    {
     "name": "stdout",
     "output_type": "stream",
     "text": [
      "(800, 1001)\n"
     ]
    }
   ],
   "source": [
    "print(data.shape)"
   ]
  },
  {
   "cell_type": "code",
   "execution_count": 5,
   "metadata": {},
   "outputs": [
    {
     "name": "stdout",
     "output_type": "stream",
     "text": [
      "(800, 1000)\n"
     ]
    }
   ],
   "source": [
    "X = np.array(data[0:800,0:data.shape[1]-1])\n",
    "print(X.shape)"
   ]
  },
  {
   "cell_type": "code",
   "execution_count": 6,
   "metadata": {},
   "outputs": [
    {
     "name": "stdout",
     "output_type": "stream",
     "text": [
      "(800,)\n"
     ]
    }
   ],
   "source": [
    "Y = np.array(data[0:800,data.shape[1]-1])\n",
    "print(Y.shape)"
   ]
  },
  {
   "cell_type": "code",
   "execution_count": 7,
   "metadata": {},
   "outputs": [
    {
     "name": "stdout",
     "output_type": "stream",
     "text": [
      "(800, 1)\n"
     ]
    }
   ],
   "source": [
    "Y = Y.reshape(-1,1)\n",
    "print(Y.shape)"
   ]
  },
  {
   "cell_type": "code",
   "execution_count": 8,
   "metadata": {},
   "outputs": [],
   "source": [
    "#Square loss function f(w) = ||Xw-y||^2\n",
    "#gradient of loss = 2*X^T(Xw-y)\n",
    "#func_value = 'f' and #grad_value = 'g'\n",
    "def loss_function(X,w,Y,i):\n",
    "    #indicator to indicate if we want the function or its gradient \n",
    "    loss = X@w-Y\n",
    "    if i =='f':\n",
    "        sq_loss = loss.T@loss\n",
    "        return sq_loss\n",
    "    if i=='g':\n",
    "        grad = X.T@loss\n",
    "        return 2*grad\n"
   ]
  },
  {
   "cell_type": "code",
   "execution_count": 9,
   "metadata": {},
   "outputs": [],
   "source": [
    "#objective function g(w) = loss function + L1norm(w)\n",
    "def objective_function(X,w,Y):\n",
    "    fun = np.sum(np.abs(w)) + loss_function(X,w,Y,'f').item()\n",
    "    return fun"
   ]
  },
  {
   "cell_type": "code",
   "execution_count": 10,
   "metadata": {},
   "outputs": [],
   "source": [
    "#subgradient of L1 norm\n",
    "def subgradL1(w):\n",
    "    subgrad = np.zeros([1000,1])\n",
    "    for i in range(1000):\n",
    "        if w[i,0]<0:\n",
    "            subgrad[i,0] = -1\n",
    "        elif w[i,0] == 0:\n",
    "            subgrad[i,0] = -1;\n",
    "        else:\n",
    "            subgrad[i,0] = 1;\n",
    "            \n",
    "    return subgrad"
   ]
  },
  {
   "cell_type": "code",
   "execution_count": 11,
   "metadata": {},
   "outputs": [],
   "source": [
    "#Primal Subgradient Descent update\n",
    "def PSD(w_prev,t,learningRate,X,Y):\n",
    "    l_rate = learningRate/np.sqrt(t+1)\n",
    "    subgradient = subgradL1(w_prev) + loss_function(X,w_prev,Y,'g')\n",
    "    w_new = w_prev - l_rate*subgradient\n",
    "    return w_new\n",
    "       "
   ]
  },
  {
   "cell_type": "code",
   "execution_count": 12,
   "metadata": {},
   "outputs": [
    {
     "ename": "SyntaxError",
     "evalue": "unexpected EOF while parsing (<ipython-input-12-7bec9f35331d>, line 3)",
     "output_type": "error",
     "traceback": [
      "\u001b[0;36m  File \u001b[0;32m\"<ipython-input-12-7bec9f35331d>\"\u001b[0;36m, line \u001b[0;32m3\u001b[0m\n\u001b[0;31m    \u001b[0m\n\u001b[0m    ^\u001b[0m\n\u001b[0;31mSyntaxError\u001b[0m\u001b[0;31m:\u001b[0m unexpected EOF while parsing\n"
     ]
    }
   ],
   "source": [
    "#select top 20\n",
    "def top20(w):\n",
    "    "
   ]
  },
  {
   "cell_type": "code",
   "execution_count": 13,
   "metadata": {},
   "outputs": [],
   "source": [
    "def optimization(X,y,learningRate,iterations,w_initial):\n",
    "    \n",
    "    w_prev = w_initial\n",
    "    w_new = w_initial \n",
    "    objval = []\n",
    "    timeSeries = []\n",
    "    totaltime = 0\n",
    "    \n",
    "    for itr in range(iterations):\n",
    "        \n",
    "        tic = time.perf_counter()\n",
    "        \n",
    "        w_new = PSD(w_prev,itr,learningRate,X,Y)\n",
    "        \n",
    "        w_prev = w_new\n",
    "        \n",
    "        toc = time.perf_counter()\n",
    "        \n",
    "        totaltime = totaltime + (toc-tic)\n",
    "        \n",
    "        curr_objvalue = objective_function(X,w_new,Y)\n",
    "        \n",
    "        objval.append(curr_objvalue.flatten())\n",
    "        \n",
    "        timeSeries.append(totaltime)\n",
    "        \n",
    "    return(w_new,objval,timeSeries)    \n",
    "        "
   ]
  },
  {
   "cell_type": "code",
   "execution_count": 19,
   "metadata": {},
   "outputs": [
    {
     "name": "stderr",
     "output_type": "stream",
     "text": [
      "/usr/local/lib/python3.7/site-packages/ipykernel_launcher.py:8: RuntimeWarning: overflow encountered in matmul\n",
      "  \n"
     ]
    },
    {
     "name": "stdout",
     "output_type": "stream",
     "text": [
      "[inf]\n",
      "0.8269489069996894\n"
     ]
    },
    {
     "data": {
      "image/png": "[encoded data removed]",
      "text/plain": [
       "<Figure size 504x504 with 1 Axes>"
      ]
     },
     "metadata": {
      "needs_background": "light"
     },
     "output_type": "display_data"
    }
   ],
   "source": [
    "iterations = 1000\n",
    "w_initial = np.random.rand(1000,1)\n",
    "learningRate = 0.1\n",
    "\n",
    "(w_final,objval, timeSeries)= optimization(X,Y,learningRate,iterations,w_initial)\n",
    "\n",
    "iters = [i for i in range(1000)]\n",
    "#for i in range(1000):\n",
    "#    print(objval[i])\n",
    "print(objval[-1])\n",
    "print(timeSeries[-1])\n",
    "plt.figure(figsize=(7,7))\n",
    "plt.plot(timeSeries[20:], objval[20:], 'go');"
   ]
  },
  {
   "cell_type": "code",
   "execution_count": null,
   "metadata": {},
   "outputs": [],
   "source": []
  }
 ],
 "metadata": {
  "kernelspec": {
   "display_name": "Python 3",
   "language": "python",
   "name": "python3"
  },
  "language_info": {
   "codemirror_mode": {
    "name": "ipython",
    "version": 3
   },
   "file_extension": ".py",
   "mimetype": "text/x-python",
   "name": "python",
   "nbconvert_exporter": "python",
   "pygments_lexer": "ipython3",
   "version": "3.7.1"
  }
 },
 "nbformat": 4,
 "nbformat_minor": 2
}
