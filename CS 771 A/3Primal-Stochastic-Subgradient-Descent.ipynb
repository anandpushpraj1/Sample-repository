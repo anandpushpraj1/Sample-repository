{
 "cells": [
  {
   "cell_type": "code",
   "execution_count": 1,
   "metadata": {},
   "outputs": [],
   "source": [
    "import numpy as np\n",
    "np.random.seed(0)\n",
    "import time\n",
    "from matplotlib import pyplot as plt"
   ]
  },
  {
   "cell_type": "code",
   "execution_count": 2,
   "metadata": {},
   "outputs": [],
   "source": [
    "data = np.loadtxt(\"train\",encoding='cp1252')"
   ]
  },
  {
   "cell_type": "code",
   "execution_count": 3,
   "metadata": {},
   "outputs": [],
   "source": [
    "X = np.array(data[0:800,1:data.shape[1]])\n",
    "Y = np.array(data[0:800,0])\n",
    "Y = Y.reshape(-1,1)"
   ]
  },
  {
   "cell_type": "code",
   "execution_count": 4,
   "metadata": {},
   "outputs": [],
   "source": [
    "#Square loss function f(w) = ||Xw-y||^2\n",
    "#gradient of loss = 2*X^T(Xw-y)\n",
    "#func_value = 'f' and #grad_value = 'g'\n",
    "def loss_function(X,w,Y,i):\n",
    "    #indicator to indicate if we want the function or its gradient \n",
    "    loss = X@w-Y\n",
    "    if i =='f':\n",
    "        sq_loss = loss.T@loss\n",
    "        return sq_loss\n",
    "    if i=='g':\n",
    "        grad = X.T@loss\n",
    "        return 2*grad\n",
    "\n"
   ]
  },
  {
   "cell_type": "code",
   "execution_count": 5,
   "metadata": {},
   "outputs": [],
   "source": [
    "#objective function g(w) = loss function + L1norm(w)\n",
    "def objective_function(X,w,Y):\n",
    "    fun = np.sum(np.abs(w)) + loss_function(X,w,Y,'f').item()\n",
    "    return fun"
   ]
  },
  {
   "cell_type": "code",
   "execution_count": 6,
   "metadata": {},
   "outputs": [],
   "source": [
    "#subgradient of L1 norm\n",
    "def subgradL1(w):\n",
    "    subgrad = np.zeros([1000,1])\n",
    "    for i in range(1000):\n",
    "        if w[i,0]<0:\n",
    "            subgrad[i,0] = -1\n",
    "        elif w[i,0] == 0:\n",
    "            subgrad[i,0] = -1;\n",
    "        else:\n",
    "            subgrad[i,0] = 1;\n",
    "            \n",
    "    return subgrad"
   ]
  },
  {
   "cell_type": "code",
   "execution_count": 7,
   "metadata": {},
   "outputs": [],
   "source": [
    "#Primal Subgradient Descent update\n",
    "def PSD(w_prev,t,learningRate,X,Y):\n",
    "    l_rate = learningRate/np.sqrt(t+1)\n",
    "    subgradient = subgradL1(w_prev) + loss_function(X,w_prev,Y,'g')\n",
    "    w_new = w_prev - l_rate*subgradient\n",
    "    return w_new\n",
    "       "
   ]
  },
  {
   "cell_type": "code",
   "execution_count": 16,
   "metadata": {},
   "outputs": [],
   "source": [
    "def optimization(X,Y,learningRate,iterations,w_initial,batchsize,timecap):\n",
    "    \n",
    "    w_prev = w_initial\n",
    "    w_new = w_initial \n",
    "    objval = []\n",
    "    timeSeries = []\n",
    "    totaltime = 0\n",
    "    \n",
    "    for itr in range(iterations):\n",
    "        \n",
    "        tic = time.perf_counter()\n",
    "        \n",
    "        minibatches = minibatch(X,Y,batchsize)\n",
    "        \n",
    "        curr_objvalue = 0\n",
    "        for mini_batch in minibatches:\n",
    "            X_mini, Y_mini = mini_batch\n",
    "            w_new = PSD(w_prev,itr,learningRate,X_mini,Y_mini)\n",
    "            w_prev = w_new\n",
    "            curr_objvalue += objective_function(X_mini,w_new,Y_mini)\n",
    "        \n",
    "        objval.append(curr_objvalue.flatten())\n",
    "            \n",
    "        \n",
    "        toc = time.perf_counter()\n",
    "        \n",
    "        totaltime = totaltime + (toc-tic)\n",
    "        \n",
    "        \n",
    "        \n",
    "        timeSeries.append(totaltime)\n",
    "        \n",
    "        if totaltime > timecap:\n",
    "            break\n",
    "        \n",
    "    return(w_new,objval,timeSeries)    "
   ]
  },
  {
   "cell_type": "code",
   "execution_count": 9,
   "metadata": {},
   "outputs": [],
   "source": [
    "#Create mini batches\n",
    "def minibatch(X,Y,batchsize):\n",
    "    \n",
    "    mini_batches = []\n",
    "    dat = np.hstack((X,Y))\n",
    "    np.random.shuffle(dat)\n",
    "    n_minibatches = dat.shape[0]//batchsize\n",
    "    \n",
    "    i = 0\n",
    "    \n",
    "    for i in range(n_minibatches + 1):\n",
    "        mini_batch = dat[i*batchsize:(i+1)*batchsize,:]\n",
    "        X_mini = mini_batch[:,1:]\n",
    "        Y_mini = mini_batch[:,0].reshape((-1,1))\n",
    "        mini_batches.append((X_mini,Y_mini))\n",
    "        \n",
    "        if dat.shape[0]%batchsize!= 0:\n",
    "            mini_batch = dat[i*batchsize:dat.shape[0]]\n",
    "            X_mini = mini_batch[:,1:]\n",
    "            Y_mini = mini_batch[:,0].reshape((-1,1))\n",
    "            mini_batches.append((X_mini,Y_mini))\n",
    "        \n",
    "    return mini_batches"
   ]
  },
  {
   "cell_type": "code",
   "execution_count": 17,
   "metadata": {},
   "outputs": [
    {
     "name": "stdout",
     "output_type": "stream",
     "text": [
      "[19.54400341]\n",
      "5.009168296999633\n"
     ]
    },
    {
     "data": {
      "image/png": "[encoded data removed]",
      "text/plain": [
       "<Figure size 504x504 with 1 Axes>"
      ]
     },
     "metadata": {
      "needs_background": "light"
     },
     "output_type": "display_data"
    }
   ],
   "source": [
    "iterations = 50000\n",
    "w_initial = np.random.rand(1000,1)\n",
    "learningRate = 0.02\n",
    "batchsize = 32\n",
    "timecap = 5\n",
    "\n",
    "(w_final,objval, timeSeries)= optimization(X,Y,learningRate,iterations,w_initial,batchsize,timecap)\n",
    "\n",
    "iters = [i for i in range(1000)]\n",
    "#for i in range(1000):\n",
    "#    print(objval[i])\n",
    "print(objval[-1])\n",
    "print(timeSeries[-1])\n",
    "plt.figure(figsize=(7,7))\n",
    "plt.plot(timeSeries[20:], objval[20:], 'go');"
   ]
  },
  {
   "cell_type": "code",
   "execution_count": null,
   "metadata": {},
   "outputs": [],
   "source": []
  },
  {
   "cell_type": "code",
   "execution_count": null,
   "metadata": {},
   "outputs": [],
   "source": []
  }
 ],
 "metadata": {
  "kernelspec": {
   "display_name": "Python 3",
   "language": "python",
   "name": "python3"
  },
  "language_info": {
   "codemirror_mode": {
    "name": "ipython",
    "version": 3
   },
   "file_extension": ".py",
   "mimetype": "text/x-python",
   "name": "python",
   "nbconvert_exporter": "python",
   "pygments_lexer": "ipython3",
   "version": "3.7.3"
  }
 },
 "nbformat": 4,
 "nbformat_minor": 2
}
